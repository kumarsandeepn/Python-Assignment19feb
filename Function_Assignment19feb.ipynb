{
  "nbformat": 4,
  "nbformat_minor": 0,
  "metadata": {
    "colab": {
      "provenance": []
    },
    "kernelspec": {
      "name": "python3",
      "display_name": "Python 3"
    },
    "language_info": {
      "name": "python"
    }
  },
  "cells": [
    {
      "cell_type": "markdown",
      "source": [
        "## 1. What is the difference between a function and a method in Python?\n",
        "\n",
        "## **  In Python, methods and functions have similar purposes but differ in important ways. Functions are independent blocks of code that can be called from anywhere, while methods are tied to objects or classes and need an object or class instance to be invoked."
      ],
      "metadata": {
        "id": "c3anSwlLXrhj"
      }
    },
    {
      "cell_type": "markdown",
      "source": [
        " Function"
      ],
      "metadata": {
        "id": "x_A9_4C9cPfh"
      }
    },
    {
      "cell_type": "code",
      "source": [
        "def my_function():\n",
        "    print(\"My name is Sandeep\")\n",
        "\n",
        "my_function()\n"
      ],
      "metadata": {
        "colab": {
          "base_uri": "https://localhost:8080/"
        },
        "id": "YzhrKBMacTQA",
        "outputId": "625ab02e-d416-4ab3-aa4e-bf53af28d241"
      },
      "execution_count": null,
      "outputs": [
        {
          "output_type": "stream",
          "name": "stdout",
          "text": [
            "My name is Sandeep\n"
          ]
        }
      ]
    },
    {
      "cell_type": "markdown",
      "source": [
        " Method"
      ],
      "metadata": {
        "id": "gTLov3xBcnH7"
      }
    },
    {
      "cell_type": "code",
      "source": [
        "name = \"sandeep\"\n",
        "name.upper()"
      ],
      "metadata": {
        "colab": {
          "base_uri": "https://localhost:8080/",
          "height": 36
        },
        "id": "AQ1liXlAcuRB",
        "outputId": "855d832d-2a06-467d-d383-eaeb9c904ec8"
      },
      "execution_count": null,
      "outputs": [
        {
          "output_type": "execute_result",
          "data": {
            "text/plain": [
              "'SANDEEP'"
            ],
            "application/vnd.google.colaboratory.intrinsic+json": {
              "type": "string"
            }
          },
          "metadata": {},
          "execution_count": 2
        }
      ]
    },
    {
      "cell_type": "markdown",
      "source": [
        "## 2.  Explain the concept of function arguments and parameters in Python."
      ],
      "metadata": {
        "id": "X6uIoWj5jLlX"
      }
    },
    {
      "cell_type": "markdown",
      "source": [
        "* Arguments are the actual values you pass to the function when calling it.\n",
        "* These values are assigned to the corresponding parameters."
      ],
      "metadata": {
        "id": "pbsliUhQmXAO"
      }
    },
    {
      "cell_type": "markdown",
      "source": [
        "# Types of Arguments in Python\n",
        "* Positional Arguments: These are arguments passed in the correct order (from left to right) matching the parameter names in the function definition.\n",
        "\n",
        "Example:\n",
        "\n"
      ],
      "metadata": {
        "id": "urT0HypYpeOf"
      }
    },
    {
      "cell_type": "code",
      "source": [
        "def add(a, b):\n",
        "    return a + b\n",
        "\n",
        "print(add(5, 3))\n"
      ],
      "metadata": {
        "colab": {
          "base_uri": "https://localhost:8080/"
        },
        "id": "rrfTPN5ppp9a",
        "outputId": "d20409a3-dc82-4e99-8071-4d9219c31b5d"
      },
      "execution_count": null,
      "outputs": [
        {
          "output_type": "stream",
          "name": "stdout",
          "text": [
            "8\n"
          ]
        }
      ]
    },
    {
      "cell_type": "markdown",
      "source": [
        "* Keyword Arguments: These are arguments passed using the parameter name, and their order doesn’t matter.\n",
        "\n",
        "Example:\n"
      ],
      "metadata": {
        "id": "HaLi4DqLp9RT"
      }
    },
    {
      "cell_type": "code",
      "source": [
        "def greet(name, age):\n",
        "    print(f\"{name} is {age} years old.\")\n",
        "\n",
        "greet(age=35, name=\"Sandeep\")"
      ],
      "metadata": {
        "colab": {
          "base_uri": "https://localhost:8080/"
        },
        "id": "2iEOZc11puGf",
        "outputId": "3f516ac7-6c69-4ec3-e312-15bf609001f9"
      },
      "execution_count": null,
      "outputs": [
        {
          "output_type": "stream",
          "name": "stdout",
          "text": [
            "Sandeep is 35 years old.\n"
          ]
        }
      ]
    },
    {
      "cell_type": "markdown",
      "source": [
        "*  Variable-length Arguments: These are used when you don't know the number of arguments beforehand.\n",
        "*  *args (for positional arguments)\n",
        "*  **kwargs (for keyword arguments)\n",
        "  \n",
        "  \n",
        "  Example:"
      ],
      "metadata": {
        "id": "RTS0BP46qz96"
      }
    },
    {
      "cell_type": "code",
      "source": [
        "def print_info(*args, **kwargs):\n",
        "    print(args)\n",
        "    print(kwargs)\n",
        "\n",
        "print_info(1, 2, 3, name=\"Sandeep\", age=35)\n"
      ],
      "metadata": {
        "colab": {
          "base_uri": "https://localhost:8080/"
        },
        "id": "0sOqUGfurQwl",
        "outputId": "a2fb88f8-1ee5-472b-c7b2-b4d24feb557e"
      },
      "execution_count": null,
      "outputs": [
        {
          "output_type": "stream",
          "name": "stdout",
          "text": [
            "(1, 2, 3)\n",
            "{'name': 'Sandeep', 'age': 35}\n"
          ]
        }
      ]
    },
    {
      "cell_type": "markdown",
      "source": [
        "In this case:\n",
        "\n",
        "* *args captures the positional arguments as a tuple.\n",
        "* **kwargs captures the keyword arguments as a dictionary.*"
      ],
      "metadata": {
        "id": "zgRbIsnqsm7z"
      }
    },
    {
      "cell_type": "markdown",
      "source": [
        "* Default Arguments: These are parameters with default values. If no argument is provided, the default value is used.\n",
        "\n",
        "Example:\n"
      ],
      "metadata": {
        "id": "UlWVh7tDs1DL"
      }
    },
    {
      "cell_type": "code",
      "source": [
        "def greet(name, greeting=\"Hello\"):\n",
        "    print(f\"{greeting}, {name}!\")\n",
        "\n",
        "greet(\"Charlie\")\n"
      ],
      "metadata": {
        "colab": {
          "base_uri": "https://localhost:8080/"
        },
        "id": "eIIevT4yqZ0e",
        "outputId": "3bc1cf5a-98a3-4687-e5c7-6ec42d345e8f"
      },
      "execution_count": null,
      "outputs": [
        {
          "output_type": "stream",
          "name": "stdout",
          "text": [
            "Hello, Charlie!\n"
          ]
        }
      ]
    },
    {
      "cell_type": "markdown",
      "source": [
        "Parameters\n",
        "\n",
        "* A parameter is the variable defined within the parentheses when we declare a function."
      ],
      "metadata": {
        "id": "oyvpodXxttAB"
      }
    },
    {
      "cell_type": "code",
      "source": [
        "# Here a,b are the parameters\n",
        "def sum(a,b):\n",
        "  print(a+b)\n",
        "sum(1,2)"
      ],
      "metadata": {
        "colab": {
          "base_uri": "https://localhost:8080/"
        },
        "id": "6PgmjYRDtBsh",
        "outputId": "357e34b0-f8b2-41ee-8c09-6e7e32d05e90"
      },
      "execution_count": null,
      "outputs": [
        {
          "output_type": "stream",
          "name": "stdout",
          "text": [
            "3\n"
          ]
        }
      ]
    },
    {
      "cell_type": "markdown",
      "source": [
        "## 3.  What are the different ways to define and call a function in Python?"
      ],
      "metadata": {
        "id": "zAb2wZrPENtB"
      }
    },
    {
      "cell_type": "markdown",
      "source": [
        "** In Python, you can define a function using the def keyword, and call it by typing the function name followed by parentheses. You can also define anonymous functions using the lambda keyword.\n",
        "\n",
        "** In Python, there are several ways to define and call a function.\n",
        "\n",
        "## Define Function"
      ],
      "metadata": {
        "id": "enxeLCMIExM4"
      }
    },
    {
      "cell_type": "markdown",
      "source": [
        "* Use the def keyword\n",
        "* Specify the function name\n",
        "* Add parentheses to indicate the function's parameters\n",
        "* Indent all code under the function declaration\n",
        "* Specify what the function should do\n",
        "\n",
        "for example:"
      ],
      "metadata": {
        "id": "yYutX6jIbpka"
      }
    },
    {
      "cell_type": "code",
      "source": [
        "# Define the function\n",
        "def greet(name):\n",
        "    return f\"Hello, {name}!\"\n",
        "\n"
      ],
      "metadata": {
        "id": "jHHAESOxuAhA"
      },
      "execution_count": null,
      "outputs": []
    },
    {
      "cell_type": "markdown",
      "source": [
        "## Call a function"
      ],
      "metadata": {
        "id": "o-gEisjfcicM"
      }
    },
    {
      "cell_type": "markdown",
      "source": [
        "* Type the function name\n",
        "* Add parentheses\n",
        "* Pass any arguments to the function inside the parentheses."
      ],
      "metadata": {
        "id": "pxKJKwvIco0r"
      }
    },
    {
      "cell_type": "code",
      "source": [
        "# Call the function\n",
        "message = greet(\"Sandeep\")\n",
        "print(message)\n"
      ],
      "metadata": {
        "colab": {
          "base_uri": "https://localhost:8080/"
        },
        "id": "3OXYHTL9cQ6Q",
        "outputId": "b39fd1d2-3db6-4715-e945-9f51bad3c3b6"
      },
      "execution_count": null,
      "outputs": [
        {
          "output_type": "stream",
          "name": "stdout",
          "text": [
            "Hello, Sandeep!\n"
          ]
        }
      ]
    },
    {
      "cell_type": "markdown",
      "source": [
        "## 4. What is the purpose of the `return` statement in a Python function?"
      ],
      "metadata": {
        "id": "k0U_7uEjc-Ni"
      }
    },
    {
      "cell_type": "markdown",
      "source": [
        "** The return statement in Python ends a function's execution and returns a value to the caller. It's used to send back the result of a calculation or retrieve specific data."
      ],
      "metadata": {
        "id": "RVfqTzCldctR"
      }
    },
    {
      "cell_type": "markdown",
      "source": [
        "## How its work"
      ],
      "metadata": {
        "id": "ZnzhAM-pdm3-"
      }
    },
    {
      "cell_type": "markdown",
      "source": [
        "* The return statement marks the end of a function.\n",
        "* The return statement specifies the value or values to pass back from the function.\n",
        "* Anything after the return statement won't be executed.\n",
        "* If a return statement lacks an expression, it returns the special value None."
      ],
      "metadata": {
        "id": "_lLZg2pZdsAE"
      }
    },
    {
      "cell_type": "markdown",
      "source": [
        "## Where it can be used?"
      ],
      "metadata": {
        "id": "jEGW1qTvd6u_"
      }
    },
    {
      "cell_type": "markdown",
      "source": [
        "* The return statement can be used to return a function also from the return statement.\n",
        "* The return statement can return multiple values also.\n",
        "* The return value can be used as an argument to another function.\n"
      ],
      "metadata": {
        "id": "GcajJgW8eGMO"
      }
    },
    {
      "cell_type": "code",
      "source": [
        "def add(a, b):\n",
        "    return a + b\n",
        "\n",
        "result = add(3, 4)\n",
        "print(result)\n"
      ],
      "metadata": {
        "colab": {
          "base_uri": "https://localhost:8080/"
        },
        "id": "i4yIp_Gkc0RJ",
        "outputId": "f638b1aa-5a96-4862-f22a-a3d96afb8955"
      },
      "execution_count": null,
      "outputs": [
        {
          "output_type": "stream",
          "name": "stdout",
          "text": [
            "7\n"
          ]
        }
      ]
    },
    {
      "cell_type": "code",
      "source": [
        "def example():\n",
        "    print(\"Before return\")\n",
        "    return\n",
        "    print(\"After return\")\n"
      ],
      "metadata": {
        "id": "nnX5oPWKecR2"
      },
      "execution_count": null,
      "outputs": []
    },
    {
      "cell_type": "markdown",
      "source": [
        "## 5. What are iterators in Python and how do they differ from iterables?"
      ],
      "metadata": {
        "id": "ZhA-hujFe-f1"
      }
    },
    {
      "cell_type": "markdown",
      "source": [
        "** In Python, iterators and iterables are closely related concepts, but they serve different roles in the process of iteration."
      ],
      "metadata": {
        "id": "mdEPBhxNfEyE"
      }
    },
    {
      "cell_type": "markdown",
      "source": [
        "## 1. Iterable:\n",
        "An iterable is any object in Python that can return an iterator. It means that an iterable is an object that can be looped over (iterated) using a for loop or any other iteration mechanism. Examples of iterables are lists, tuples, strings, dictionaries, sets, etc.\n",
        "\n",
        "An iterable must implement the __iter__() method, which returns an iterator object.\n",
        "\n",
        "Examples:"
      ],
      "metadata": {
        "id": "7mcELMDsh0z3"
      }
    },
    {
      "cell_type": "code",
      "source": [
        "# Example of an iterable (a list)\n",
        "my_list = [1, 2, 3]\n",
        "print(my_list)\n"
      ],
      "metadata": {
        "colab": {
          "base_uri": "https://localhost:8080/"
        },
        "id": "uHUDDJglen66",
        "outputId": "130a656f-198b-434b-d158-e669511ed75d"
      },
      "execution_count": null,
      "outputs": [
        {
          "output_type": "stream",
          "name": "stdout",
          "text": [
            "[1, 2, 3]\n"
          ]
        }
      ]
    },
    {
      "cell_type": "code",
      "source": [
        "# Example of an iterable (a string)\n",
        "my_str = \"hello\"\n",
        "print(my_str)"
      ],
      "metadata": {
        "colab": {
          "base_uri": "https://localhost:8080/"
        },
        "id": "VGprmxuIjT4I",
        "outputId": "efa172f7-0067-4433-924d-9ffba7ca80c6"
      },
      "execution_count": null,
      "outputs": [
        {
          "output_type": "stream",
          "name": "stdout",
          "text": [
            "hello\n"
          ]
        }
      ]
    },
    {
      "cell_type": "markdown",
      "source": [
        "##  2. Iterator:\n",
        "An iterator is an object that represents a stream of data; it is the object responsible for keeping track of the state of the iteration and returning the next item in the sequence.\n",
        "\n",
        "An iterator must implement two methods:\n",
        "\n",
        "* __iter__(): Returns the iterator object itself.\n",
        "* __next__(): Returns the next item in the sequence and updates the state (or raises StopIteration when the iteration is complete).\n",
        "In other words, an iterator is the object that actually performs the iteration.\n",
        "\n",
        "Examples:"
      ],
      "metadata": {
        "id": "z-Al9rvDipnN"
      }
    },
    {
      "cell_type": "code",
      "source": [
        "# Getting the iterator from an iterable (list)\n",
        "my_list = [1, 2, 3, 4]\n",
        "iterator = iter(my_list)  # This converts the list into an iterator\n",
        "\n",
        "# Using the iterator to get items\n",
        "print(next(iterator))  # 1\n",
        "print(next(iterator))  # 2\n",
        "print(next(iterator))  # 3\n",
        "print(next(iterator))  # 4\n",
        "# print(next(iterator))  # Raises StopIteration when there are no more items\n"
      ],
      "metadata": {
        "colab": {
          "base_uri": "https://localhost:8080/"
        },
        "id": "qqca3aOVjkGC",
        "outputId": "d1cc64a3-57f5-4689-ca55-5fd27f85a13a"
      },
      "execution_count": null,
      "outputs": [
        {
          "output_type": "stream",
          "name": "stdout",
          "text": [
            "1\n",
            "2\n",
            "3\n",
            "4\n"
          ]
        }
      ]
    },
    {
      "cell_type": "markdown",
      "source": [
        "## 6.  Explain the concept of generators in Python and how they are defined."
      ],
      "metadata": {
        "id": "iPFpqr0RkjC1"
      }
    },
    {
      "cell_type": "markdown",
      "source": [
        "** A generator function is a special type of function that returns an iterator object. Instead of using return to send back a single value, generator functions use yield to produce a series of results over time. This allows the function to generate values and pause its execution after each yield, maintaining its state between iterations.\n",
        "\n",
        "Example:"
      ],
      "metadata": {
        "id": "WuICx5ndkrtS"
      }
    },
    {
      "cell_type": "code",
      "source": [
        "def fun(max):\n",
        "    cnt = 1\n",
        "    while cnt <= max:\n",
        "        yield cnt\n",
        "        cnt += 1\n",
        "\n",
        "ctr = fun(10)\n",
        "for n in ctr:\n",
        "    print(n)\n"
      ],
      "metadata": {
        "colab": {
          "base_uri": "https://localhost:8080/"
        },
        "id": "jD8VgLI8kQxV",
        "outputId": "8545bb07-bb82-4952-898c-683d370b8935"
      },
      "execution_count": null,
      "outputs": [
        {
          "output_type": "stream",
          "name": "stdout",
          "text": [
            "1\n",
            "2\n",
            "3\n",
            "4\n",
            "5\n",
            "6\n",
            "7\n",
            "8\n",
            "9\n",
            "10\n"
          ]
        }
      ]
    },
    {
      "cell_type": "markdown",
      "source": [
        "## Key Concepts of Generators:\n",
        "* Lazy Evaluation: Generators do not compute all the values upfront; they generate values only when needed. This allows for efficient memory usage.\n",
        "\n",
        "* Stateful Iteration: A generator function remembers its state between iterations. Each time a value is requested, the generator picks up where it left off.\n",
        "\n",
        "* Efficiency: Since generators yield one item at a time, they are memory-efficient, especially for large datasets. You don't have to store the entire sequence in memory."
      ],
      "metadata": {
        "id": "kmXXkMXelwJ2"
      }
    },
    {
      "cell_type": "markdown",
      "source": [
        "## 7.  What are the advantages of using generators over regular functions?"
      ],
      "metadata": {
        "id": "tq4gQHAM_RCj"
      }
    },
    {
      "cell_type": "markdown",
      "source": [
        "# The advantages of using generators over regular functions are benifits:\n",
        "\n",
        "* Simplecity and clean code\n",
        "* Improved Performance\n",
        "* State Preservation\n",
        "* Memory Efficiency\n",
        "* Potential for Infinite Sequences\n",
        "* Better for Stream Processing"
      ],
      "metadata": {
        "id": "Ssd4-wL5_Y47"
      }
    },
    {
      "cell_type": "markdown",
      "source": [
        "examplle: Reguler function"
      ],
      "metadata": {
        "id": "tv74L_xrBGwm"
      }
    },
    {
      "cell_type": "code",
      "source": [
        "\n",
        "def simple_generator():\n",
        "    yield 1\n",
        "    yield 2\n",
        "    yield 3\n",
        "\n",
        "# Create a generator object\n",
        "gen = simple_generator()\n",
        "\n",
        "# Iterate through the generator\n",
        "for value in gen:\n",
        "    print(value)\n"
      ],
      "metadata": {
        "colab": {
          "base_uri": "https://localhost:8080/"
        },
        "id": "xSrtp7CxlcBP",
        "outputId": "aabc0f0b-6ed4-4938-92da-a5fb04e9af99"
      },
      "execution_count": null,
      "outputs": [
        {
          "output_type": "stream",
          "name": "stdout",
          "text": [
            "1\n",
            "2\n",
            "3\n"
          ]
        }
      ]
    },
    {
      "cell_type": "markdown",
      "source": [
        "example: Generator"
      ],
      "metadata": {
        "id": "7p0yn1JNBsX9"
      }
    },
    {
      "cell_type": "code",
      "source": [
        "# Generator expression to produce squares of numbers from 1 to 6\n",
        "squares = (x**2 for x in range(1, 7))\n",
        "\n",
        "# Iterate through the generator expression\n",
        "for square in squares:\n",
        "    print(square)"
      ],
      "metadata": {
        "colab": {
          "base_uri": "https://localhost:8080/"
        },
        "id": "S6Q8am-QBTOB",
        "outputId": "f00f187a-99da-47a5-c79b-13639c57a4ba"
      },
      "execution_count": null,
      "outputs": [
        {
          "output_type": "stream",
          "name": "stdout",
          "text": [
            "1\n",
            "4\n",
            "9\n",
            "16\n",
            "25\n",
            "36\n"
          ]
        }
      ]
    },
    {
      "cell_type": "markdown",
      "source": [
        "## 8.  What is a lambda function in Python and when is it typically used?"
      ],
      "metadata": {
        "id": "j9h1b1TaCuXe"
      }
    },
    {
      "cell_type": "markdown",
      "source": [
        "# A lambda function in Python is a small, anonymous function defined using the lambda keyword instead of the traditional def keyword. Lambda functions can have any number of input parameters but only one expression, and they return the result of that expression.\n",
        "\n",
        "The general syntax is: lambda arguments: expression"
      ],
      "metadata": {
        "id": "00oyMZpiDEmD"
      }
    },
    {
      "cell_type": "code",
      "source": [
        "# A lambda function that adds two numbers\n",
        "add = lambda x, y, z: x + y + z\n",
        "print(add(2, 3, 4))\n"
      ],
      "metadata": {
        "colab": {
          "base_uri": "https://localhost:8080/"
        },
        "id": "aFQYLQxPCac6",
        "outputId": "9b3dc773-c1eb-4ce6-9635-62e091226837"
      },
      "execution_count": null,
      "outputs": [
        {
          "output_type": "stream",
          "name": "stdout",
          "text": [
            "9\n"
          ]
        }
      ]
    },
    {
      "cell_type": "markdown",
      "source": [
        "# lambda function typically used:\n",
        "For short, throwaway functions: Lambda functions are often used when a function is needed for a short period, especially when it doesn't require a full function definition.\n",
        "\n",
        "In higher-order functions: They're commonly passed as arguments to functions like map(), filter(), and sorted(), where a small function is required as part of a larger operation.\n",
        "\n",
        "Example with sorted ():"
      ],
      "metadata": {
        "id": "GChNmEVRDicT"
      }
    },
    {
      "cell_type": "code",
      "source": [
        "data = [(1, 'apple'), (3, 'banana'), (2, 'cherry')]\n",
        "sorted_data = sorted(data, key=lambda x: x[1])\n",
        "print(sorted_data)\n"
      ],
      "metadata": {
        "colab": {
          "base_uri": "https://localhost:8080/"
        },
        "id": "BBvfGRHBDSod",
        "outputId": "ea15a536-a7f1-4a67-ca61-6b2c00ac00d4"
      },
      "execution_count": null,
      "outputs": [
        {
          "output_type": "stream",
          "name": "stdout",
          "text": [
            "[(1, 'apple'), (3, 'banana'), (2, 'cherry')]\n"
          ]
        }
      ]
    },
    {
      "cell_type": "markdown",
      "source": [
        "* In functional programming: Lambda functions are part of Python’s functional programming features. They help in cases where a quick function is needed for operations like reducing a list or applying a function to all items in a sequence.\n",
        "\n",
        "* When the function is simple: When the logic of the function is simple enough to fit in a single line, a lambda function keeps the code clean and concise."
      ],
      "metadata": {
        "id": "X-zwh44rD_R-"
      }
    },
    {
      "cell_type": "markdown",
      "source": [
        "## 9. Explain the purpose and usage of the `map()` function in Python."
      ],
      "metadata": {
        "id": "GL_hPZmcEJwh"
      }
    },
    {
      "cell_type": "markdown",
      "source": [
        "# The map() function in Python is used to apply a given function to all items in an iterable (like a list, tuple, etc.) and return an iterator (map object) that produces the results.\n",
        "\n",
        "Purpose:\n",
        "The primary purpose of map() is to transform each element of an iterable using a function without needing an explicit loop (like for loops). It’s a cleaner and more functional programming-oriented way of processing data."
      ],
      "metadata": {
        "id": "0u8ThSP7EfYU"
      }
    },
    {
      "cell_type": "markdown",
      "source": [
        "* map(function, iterable, ...)\n",
        "** function: A function to be applied to each item in the iterable(s).\n",
        "** iterable: One or more iterables (lists, tuples, etc.) whose elements will be processed by the function."
      ],
      "metadata": {
        "id": "gt_k8oWTEoN6"
      }
    },
    {
      "cell_type": "markdown",
      "source": [
        "# Single Iterable: When you pass a single iterable, map() applies the function to each element of that iterable."
      ],
      "metadata": {
        "id": "6UoGs0EDE40q"
      }
    },
    {
      "cell_type": "code",
      "source": [
        "numbers = [1, 2, 3, 4, 5]\n",
        "result = map(lambda x: x * 2, numbers)\n",
        "print(list(result))\n"
      ],
      "metadata": {
        "colab": {
          "base_uri": "https://localhost:8080/"
        },
        "id": "PWWpIJuEDxhR",
        "outputId": "412f9e0f-e6fd-47d1-b1b6-7b44b0fb8fc9"
      },
      "execution_count": null,
      "outputs": [
        {
          "output_type": "stream",
          "name": "stdout",
          "text": [
            "[2, 4, 6, 8, 10]\n"
          ]
        }
      ]
    },
    {
      "cell_type": "markdown",
      "source": [
        "# Multiple Iterables: You can pass multiple iterables to map(), in which case the function must accept as many arguments as there are iterables. The function is applied to elements from the iterables pairwise."
      ],
      "metadata": {
        "id": "unHWMZQ3FErU"
      }
    },
    {
      "cell_type": "code",
      "source": [
        "nums1 = [1, 2, 3]\n",
        "nums2 = [4, 5, 6]\n",
        "result = map(lambda x, y: x + y, nums1, nums2)\n",
        "print(list(result))\n"
      ],
      "metadata": {
        "colab": {
          "base_uri": "https://localhost:8080/"
        },
        "id": "wGkchKKBE-yS",
        "outputId": "7a752f28-efb4-4907-d405-611a387154e9"
      },
      "execution_count": null,
      "outputs": [
        {
          "output_type": "stream",
          "name": "stdout",
          "text": [
            "[5, 7, 9]\n"
          ]
        }
      ]
    },
    {
      "cell_type": "markdown",
      "source": [
        "## 10.  What is the difference between `map()`, `reduce()`, and `filter()` functions in Python?"
      ],
      "metadata": {
        "id": "gGrvkPs9Fad4"
      }
    },
    {
      "cell_type": "markdown",
      "source": [
        "# In Python, map(), reduce(), and filter() are higher-order functions that operate on iterables like lists, tuples, and other collections. Here’s a breakdown of the differences between these three functions:\n",
        "\n",
        "* map(): Transforms each item in an iterable using a function.\n",
        "* filter(): Filters the items in an iterable based on a condition (returns only those that pass the test).\n",
        "* reduce(): Reduces an iterable to a single value by applying a function cumulatively.\n",
        "\n",
        "#  map()\n",
        "Purpose: Applies a given function to each item in an iterable and returns a new iterable (map object) with the results.\n",
        "Syntax: map(function, iterable)\n",
        "Output: An iterable (usually a map object, which can be converted into a list, tuple, etc.)\n",
        "Use Case: When you want to transform or modify each item in a collection.\n",
        "\n",
        "Example:"
      ],
      "metadata": {
        "id": "KytiN3ddF2dB"
      }
    },
    {
      "cell_type": "code",
      "source": [
        "# Example using map()\n",
        "numbers = [1, 2, 3, 4, 5]\n",
        "squared_numbers = map(lambda x: x**2, numbers)\n",
        "print(list(squared_numbers))\n"
      ],
      "metadata": {
        "colab": {
          "base_uri": "https://localhost:8080/"
        },
        "id": "HXscCXymFNzq",
        "outputId": "a7598f4d-7f1e-4efb-94d7-5f54ffb3580b"
      },
      "execution_count": null,
      "outputs": [
        {
          "output_type": "stream",
          "name": "stdout",
          "text": [
            "[1, 4, 9, 16, 25]\n"
          ]
        }
      ]
    },
    {
      "cell_type": "markdown",
      "source": [
        "# filter()\n",
        "Purpose: Filters items in an iterable based on a condition provided by a function. The function should return True or False, and only the items where the function returns True are included in the result.\n",
        "Syntax: filter(function, iterable)\n",
        "Output: An iterable (filter object) containing only the elements that satisfy the condition.\n",
        "Use Case: When you want to remove unwanted items from a collection based on a condition.\n",
        "\n",
        "Example:"
      ],
      "metadata": {
        "id": "Y6SbtVwhGQHo"
      }
    },
    {
      "cell_type": "code",
      "source": [
        "# Example using filter()\n",
        "numbers = [1, 2, 3, 4, 5, 6]\n",
        "even_numbers = filter(lambda x: x % 2 == 0, numbers)\n",
        "print(list(even_numbers))\n"
      ],
      "metadata": {
        "colab": {
          "base_uri": "https://localhost:8080/"
        },
        "id": "0iXbBcT9GH7s",
        "outputId": "526b82f0-80a2-489d-c8ff-c8704f504837"
      },
      "execution_count": null,
      "outputs": [
        {
          "output_type": "stream",
          "name": "stdout",
          "text": [
            "[2, 4, 6]\n"
          ]
        }
      ]
    },
    {
      "cell_type": "markdown",
      "source": [
        "# reduce() (from functools module)\n",
        "Purpose: Applies a binary function (a function that takes two arguments) cumulatively to the items in an iterable, reducing the iterable to a single value.\n",
        "Syntax: reduce(function, iterable[, initializer])\n",
        "Output: A single value (the result of the cumulative reduction).\n",
        "Use Case: When you want to reduce a collection to a single result, such as summing, multiplying, or combining values in some way.\n",
        "\n",
        "Example:"
      ],
      "metadata": {
        "id": "hDtrp-sUGnUS"
      }
    },
    {
      "cell_type": "code",
      "source": [
        "from functools import reduce\n",
        "\n",
        "# Example using reduce()\n",
        "numbers = [1, 2, 3, 4, 5]\n",
        "product = reduce(lambda x, y: x * y, numbers)\n",
        "print(product)\n"
      ],
      "metadata": {
        "colab": {
          "base_uri": "https://localhost:8080/"
        },
        "id": "2MB7lcSOGgEF",
        "outputId": "75ebdd5e-0b1c-481c-e695-64b7edb59139"
      },
      "execution_count": null,
      "outputs": [
        {
          "output_type": "stream",
          "name": "stdout",
          "text": [
            "120\n"
          ]
        }
      ]
    },
    {
      "cell_type": "markdown",
      "source": [
        "## 11.  Using pen & Paper write the internal mechanism for sum operation using  reduce function on this givenlist:[47,11,42,13];"
      ],
      "metadata": {
        "id": "vVTdw4ewHZdn"
      }
    },
    {
      "cell_type": "markdown",
      "source": [
        "# The reduce function from Python's functools module is used to apply a binary function (a function that takes two inputs) cumulatively to the items of an iterable (like a list), from left to right, so as to reduce the iterable to a single result.\n",
        "\n",
        "In this case, the binary function we are using is addition (+), and the iterable is [47, 11, 42, 13]."
      ],
      "metadata": {
        "id": "RNwRGPidJwIN"
      }
    },
    {
      "cell_type": "markdown",
      "source": [
        "take the first two elements [47,11]\n",
        "the sum of 47 + 11 = 58\n",
        "\n",
        "now the sum third elements[42]\n",
        "\n",
        "58 + 42 = 100\n",
        "\n",
        "\n",
        "and the sum of last elements [13]\n",
        "\n",
        "100 + 13 = 113"
      ],
      "metadata": {
        "id": "u8pW0bbLJ625"
      }
    },
    {
      "cell_type": "code",
      "source": [
        "reduce(lambda x, y: x + y, [47, 11, 42, 13])\n"
      ],
      "metadata": {
        "colab": {
          "base_uri": "https://localhost:8080/"
        },
        "id": "wl45QrNfG9mE",
        "outputId": "f94b4272-bf77-44ff-84a5-aa2a71fb6183"
      },
      "execution_count": null,
      "outputs": [
        {
          "output_type": "execute_result",
          "data": {
            "text/plain": [
              "113"
            ]
          },
          "metadata": {},
          "execution_count": 30
        }
      ]
    },
    {
      "cell_type": "markdown",
      "source": [
        "## **PRACTICAL QUESTION**"
      ],
      "metadata": {
        "id": "o7dzwUr4kVO2"
      }
    },
    {
      "cell_type": "markdown",
      "source": [
        "## 1.  Write a Python function that takes a list of numbers as input and returns the sum of all even numbers in the list."
      ],
      "metadata": {
        "id": "jOjOSdl6kacH"
      }
    },
    {
      "cell_type": "markdown",
      "source": [
        "# Python function that takes a list of numbers as input and returns the sum of all even numbers in the list:"
      ],
      "metadata": {
        "id": "V71FluSakzlH"
      }
    },
    {
      "cell_type": "code",
      "source": [
        "def sum_of_even_numbers(numbers):\n",
        "    # Initialize the sum to 0\n",
        "    total = 0\n",
        "    # Iterate through the list of numbers\n",
        "    for num in numbers:\n",
        "        # Check if the number is even\n",
        "        if num % 2 == 0:\n",
        "            total += num\n",
        "    # Return the total sum of even numbers\n",
        "    return total\n",
        "\n",
        "numbers = [1, 2, 3, 4, 5, 6]\n",
        "result = sum_of_even_numbers(numbers)\n",
        "print(result)"
      ],
      "metadata": {
        "colab": {
          "base_uri": "https://localhost:8080/"
        },
        "id": "iiiwdb5gKswG",
        "outputId": "564e1102-9ae9-4dcb-df4e-ffb4dca54193"
      },
      "execution_count": null,
      "outputs": [
        {
          "output_type": "stream",
          "name": "stdout",
          "text": [
            "12\n"
          ]
        }
      ]
    },
    {
      "cell_type": "markdown",
      "source": [
        "## 2. . Create a Python function that accepts a string and returns the reverse of that string."
      ],
      "metadata": {
        "id": "yLl7yAyImuaB"
      }
    },
    {
      "cell_type": "markdown",
      "source": [
        "# Python function that accepts a string and returns its reverse:\n",
        "\n",
        "* The [::-1] slicing  is used to reverse the string."
      ],
      "metadata": {
        "id": "58mNHNvxmz2f"
      }
    },
    {
      "cell_type": "code",
      "source": [
        "def reverse_string(input_string):\n",
        "    return input_string[::-1]\n",
        "\n",
        "result = reverse_string(\"Hello, World!\")\n",
        "print(result)\n"
      ],
      "metadata": {
        "colab": {
          "base_uri": "https://localhost:8080/"
        },
        "id": "05Q-7TI7lqO_",
        "outputId": "b4292bf4-5ed2-4a3f-9722-64d55bca3965"
      },
      "execution_count": null,
      "outputs": [
        {
          "output_type": "stream",
          "name": "stdout",
          "text": [
            "!dlroW ,olleH\n"
          ]
        }
      ]
    },
    {
      "cell_type": "markdown",
      "source": [
        "## 3. . Implement a Python function that takes a list of integers and returns a new list containing the squares of each number."
      ],
      "metadata": {
        "id": "neFwTppWnbey"
      }
    },
    {
      "cell_type": "markdown",
      "source": [
        "# Python function that takes a list of integers and returns a new list with the squares of each number:"
      ],
      "metadata": {
        "id": "IuFMhoeVniA0"
      }
    },
    {
      "cell_type": "code",
      "source": [
        "def square_numbers(numbers):\n",
        "    return [num ** 2 for num in numbers]\n",
        "\n",
        "numbers = [1, 2, 3, 4, 5]\n",
        "squared_numbers = square_numbers(numbers)\n",
        "print(squared_numbers)"
      ],
      "metadata": {
        "colab": {
          "base_uri": "https://localhost:8080/"
        },
        "id": "Q4pgQKsznJkE",
        "outputId": "c8fb1f72-3504-4b11-f827-db0a3c970612"
      },
      "execution_count": null,
      "outputs": [
        {
          "output_type": "stream",
          "name": "stdout",
          "text": [
            "[1, 4, 9, 16, 25]\n"
          ]
        }
      ]
    },
    {
      "cell_type": "markdown",
      "source": [
        "## 4. Write a Python function that checks if a given number is prime or not from 1 to 200."
      ],
      "metadata": {
        "id": "bl9JPRNNn7UQ"
      }
    },
    {
      "cell_type": "markdown",
      "source": [
        "# Python function that checks if a given number is prime or not, specifically for numbers in the range of 1 to 200:"
      ],
      "metadata": {
        "id": "dLz1ytqCoB8W"
      }
    },
    {
      "cell_type": "code",
      "source": [
        "def is_prime(n):\n",
        "    if n <= 1:\n",
        "        return False\n",
        "    for i in range(2, int(n ** 0.5) + 1):\n",
        "        if n % i == 0:\n",
        "            return False\n",
        "    return True\n",
        "\n",
        "for num in range(1, 200):\n",
        "    if is_prime(num):\n",
        "        print(f\"{num} is a prime number.\")\n"
      ],
      "metadata": {
        "colab": {
          "base_uri": "https://localhost:8080/"
        },
        "id": "NJU1gFz_n0Xa",
        "outputId": "f7cb3373-f830-4d1e-8168-263e44e4d9b6"
      },
      "execution_count": null,
      "outputs": [
        {
          "output_type": "stream",
          "name": "stdout",
          "text": [
            "2 is a prime number.\n",
            "3 is a prime number.\n",
            "5 is a prime number.\n",
            "7 is a prime number.\n",
            "11 is a prime number.\n",
            "13 is a prime number.\n",
            "17 is a prime number.\n",
            "19 is a prime number.\n",
            "23 is a prime number.\n",
            "29 is a prime number.\n",
            "31 is a prime number.\n",
            "37 is a prime number.\n",
            "41 is a prime number.\n",
            "43 is a prime number.\n",
            "47 is a prime number.\n",
            "53 is a prime number.\n",
            "59 is a prime number.\n",
            "61 is a prime number.\n",
            "67 is a prime number.\n",
            "71 is a prime number.\n",
            "73 is a prime number.\n",
            "79 is a prime number.\n",
            "83 is a prime number.\n",
            "89 is a prime number.\n",
            "97 is a prime number.\n",
            "101 is a prime number.\n",
            "103 is a prime number.\n",
            "107 is a prime number.\n",
            "109 is a prime number.\n",
            "113 is a prime number.\n",
            "127 is a prime number.\n",
            "131 is a prime number.\n",
            "137 is a prime number.\n",
            "139 is a prime number.\n",
            "149 is a prime number.\n",
            "151 is a prime number.\n",
            "157 is a prime number.\n",
            "163 is a prime number.\n",
            "167 is a prime number.\n",
            "173 is a prime number.\n",
            "179 is a prime number.\n",
            "181 is a prime number.\n",
            "191 is a prime number.\n",
            "193 is a prime number.\n",
            "197 is a prime number.\n",
            "199 is a prime number.\n"
          ]
        }
      ]
    },
    {
      "cell_type": "markdown",
      "source": [
        "## 5.  Create an iterator class in Python that generates the Fibonacci sequence up to a specified number of terms."
      ],
      "metadata": {
        "id": "OKganQm7o8fr"
      }
    },
    {
      "cell_type": "markdown",
      "source": [
        "# The iterator class that generates the Fibonacci sequence up to a specified number of terms:\n"
      ],
      "metadata": {
        "id": "JouAkUorpEc4"
      }
    },
    {
      "cell_type": "code",
      "source": [
        "class FibonacciIterator:\n",
        "    def __init__(self, n):\n",
        "        # n is the number of terms to generate\n",
        "        self.n = n\n",
        "        self.a, self.b = 0, 1  # The first two Fibonacci numbers\n",
        "        self.count = 0  # To keep track of the number of terms generated\n",
        "\n",
        "    def __iter__(self):\n",
        "        return self  # The iterator object itself\n",
        "\n",
        "    def __next__(self):\n",
        "        if self.count >= self.n:\n",
        "            raise StopIteration  # Stop when we've generated n terms\n",
        "        else:\n",
        "            fib_number = self.a\n",
        "            self.a, self.b = self.b, self.a + self.b  # Update the Fibonacci numbers\n",
        "            self.count += 1\n",
        "            return fib_number\n",
        "\n",
        "fib = FibonacciIterator(10)  # Fibonacci sequence for 10 terms\n",
        "for num in fib:\n",
        "    print(num)"
      ],
      "metadata": {
        "colab": {
          "base_uri": "https://localhost:8080/"
        },
        "id": "Rvt-LJWzoVZR",
        "outputId": "249fd00d-0c21-4940-e069-379447cef4a6"
      },
      "execution_count": null,
      "outputs": [
        {
          "output_type": "stream",
          "name": "stdout",
          "text": [
            "0\n",
            "1\n",
            "1\n",
            "2\n",
            "3\n",
            "5\n",
            "8\n",
            "13\n",
            "21\n",
            "34\n"
          ]
        }
      ]
    },
    {
      "cell_type": "markdown",
      "source": [
        "## 6.  Write a generator function in Python that yields the powers of 2 up to a given exponent."
      ],
      "metadata": {
        "id": "OUAfZIeRqGZ1"
      }
    },
    {
      "cell_type": "markdown",
      "source": [
        "# generator function that yields the powers of 2 up to a given exponent:"
      ],
      "metadata": {
        "id": "Tk0roP-DqNN7"
      }
    },
    {
      "cell_type": "code",
      "source": [
        "def powers_of_two(exponent):\n",
        "    for i in range(exponent + 1):\n",
        "        yield 2 ** i\n",
        "\n",
        "for power in powers_of_two(10):\n",
        "    print(power)"
      ],
      "metadata": {
        "colab": {
          "base_uri": "https://localhost:8080/"
        },
        "id": "ut45X8G-prSq",
        "outputId": "31440099-6925-4dd9-9b0f-cbe1853520ce"
      },
      "execution_count": null,
      "outputs": [
        {
          "output_type": "stream",
          "name": "stdout",
          "text": [
            "1\n",
            "2\n",
            "4\n",
            "8\n",
            "16\n",
            "32\n",
            "64\n",
            "128\n",
            "256\n",
            "512\n",
            "1024\n"
          ]
        }
      ]
    },
    {
      "cell_type": "markdown",
      "source": [
        "## 7. . Implement a generator function that reads a file line by line and yields each line as a string."
      ],
      "metadata": {
        "id": "7hDPiPnEqqIq"
      }
    },
    {
      "cell_type": "markdown",
      "source": [],
      "metadata": {
        "id": "ERsGErmTqyxA"
      }
    },
    {
      "cell_type": "code",
      "source": [],
      "metadata": {
        "id": "UC2ofIbTrK00"
      },
      "execution_count": null,
      "outputs": []
    },
    {
      "cell_type": "markdown",
      "source": [
        "## 8.  Use a lambda function in Python to sort a list of tuples based on the second element of each tuple."
      ],
      "metadata": {
        "id": "2w7R8UcarUb0"
      }
    },
    {
      "cell_type": "markdown",
      "source": [
        "# lambda function in Python to sort a list of tuples based on the second element like this:\n"
      ],
      "metadata": {
        "id": "NGSNUUicraR0"
      }
    },
    {
      "cell_type": "code",
      "source": [
        "# List of tuples\n",
        "tuples_list = [(1, 3), (2, 1), (4, 2), (5, 0)]\n",
        "\n",
        "# Sorting the list of tuples based on the second element\n",
        "sorted_list = sorted(tuples_list, key=lambda x: x[1])\n",
        "\n",
        "# Printing the sorted list\n",
        "print(sorted_list)\n"
      ],
      "metadata": {
        "colab": {
          "base_uri": "https://localhost:8080/"
        },
        "id": "h7NEhPj-rnjE",
        "outputId": "c9e763ed-586e-4da1-ca5b-b60fbc717fef"
      },
      "execution_count": null,
      "outputs": [
        {
          "output_type": "stream",
          "name": "stdout",
          "text": [
            "[(5, 0), (2, 1), (4, 2), (1, 3)]\n"
          ]
        }
      ]
    },
    {
      "cell_type": "markdown",
      "source": [
        "## 9.  Write a Python program that uses `map()` to convert a list of temperatures from Celsius to Fahrenheit."
      ],
      "metadata": {
        "id": "iKKM8rRxr55k"
      }
    },
    {
      "cell_type": "markdown",
      "source": [
        "# Python program that uses the map() function to convert a list of temperatures from Celsius to Fahrenheit:\n",
        "\n",
        "* celsius_to_fahrenheit is the function that converts a Celsius value to Fahrenheit.\n",
        "* map() applies this function to each element of the celsius_temperatures list.\n",
        "* The result is converted back into a list using list() and printed.\n",
        "\n",
        "example:"
      ],
      "metadata": {
        "id": "AA4iZvz4sKmb"
      }
    },
    {
      "cell_type": "code",
      "source": [
        "# Function to convert Celsius to Fahrenheit\n",
        "def celsius_to_fahrenheit(celsius):\n",
        "    return (celsius * 9/5) + 32\n",
        "\n",
        "# List of temperatures in Celsius\n",
        "celsius_temperatures = [0, 20, 37, 100, -10]\n",
        "\n",
        "# Using map() to convert Celsius to Fahrenheit\n",
        "fahrenheit_temperatures = list(map(celsius_to_fahrenheit, celsius_temperatures))\n",
        "\n",
        "print(fahrenheit_temperatures)\n"
      ],
      "metadata": {
        "colab": {
          "base_uri": "https://localhost:8080/"
        },
        "id": "fMSfjd3jrshW",
        "outputId": "0b843890-57e3-461d-9b43-44e711cece39"
      },
      "execution_count": null,
      "outputs": [
        {
          "output_type": "stream",
          "name": "stdout",
          "text": [
            "[32.0, 68.0, 98.6, 212.0, 14.0]\n"
          ]
        }
      ]
    },
    {
      "cell_type": "markdown",
      "source": [
        "## 10.  Create a Python program that uses `filter()` to remove all the vowels from a given string."
      ],
      "metadata": {
        "id": "yzKIN536sz1i"
      }
    },
    {
      "cell_type": "markdown",
      "source": [
        "# Python program that uses the filter() function to remove all vowels from a given string. Here's an example implementation:"
      ],
      "metadata": {
        "id": "Zuf2XXwQtC8h"
      }
    },
    {
      "cell_type": "code",
      "source": [
        "def remove_vowels(input_string):\n",
        "    # Define the vowels\n",
        "    vowels = 'aeiouAEIOU'\n",
        "\n",
        "    # Use filter() to remove vowels\n",
        "    result = filter(lambda char: char not in vowels, input_string)\n",
        "\n",
        "    # Convert the filter object to a string\n",
        "    return ''.join(result)\n",
        "\n",
        "# Test the function\n",
        "input_string = \"Hello World\"\n",
        "output_string = remove_vowels(input_string)\n",
        "print(output_string)\n"
      ],
      "metadata": {
        "colab": {
          "base_uri": "https://localhost:8080/"
        },
        "id": "JzM9byJNsVLK",
        "outputId": "efcd9ba3-4a74-4acb-d24b-54a5efbea438"
      },
      "execution_count": null,
      "outputs": [
        {
          "output_type": "stream",
          "name": "stdout",
          "text": [
            "Hll Wrld\n"
          ]
        }
      ]
    },
    {
      "cell_type": "markdown",
      "source": [
        "Write a Python program, which returns a list with 2-tuples. Each tuple consists of the order number and the\n",
        "product of the price per item and the quantity. The product should be increased by 10,- € if the value of the\n",
        "order is smaller than 100,00 €.\n",
        " Write a Python program using lambda and map\n",
        "\n",
        "* Order no.     Booke title and Author           Quantity       Price per item\n",
        "\n",
        "  34587         Learning Python,Mark Lutz           4                   40.95\n",
        "  98762         Programming Python, Mark Lutz       5                   56.80\n",
        "  77226         Head first Python, Paul Barry       3                   32.95\n",
        "  88112         Enfuhrung in Python3, Bernd Klein3  3                   24.99"
      ],
      "metadata": {
        "id": "-rlWOJQLiAOK"
      }
    },
    {
      "cell_type": "code",
      "source": [
        "# Input data as a list of tuples: (order_no, book_title, quantity, price_per_item)\n",
        "orders = [\n",
        "    (34587, \"Learning Python, Mark Lutz\", 4, 40.95),\n",
        "    (98762, \"Programming Python, Mark Lutz\", 5, 56.80),\n",
        "    (77226, \"Head First Python, Paul Barry\", 3, 32.95),\n",
        "    (88112, \"Einführung in Python3, Bernd Klein\", 3, 24.99)\n",
        "]\n",
        "\n",
        "# Lambda function to calculate the price and apply the 10 € adjustment if necessary\n",
        "def calculate_order(order):\n",
        "    order_no, title, quantity, price_per_item = order\n",
        "    total_price = quantity * price_per_item\n",
        "    # Apply a 10 € adjustment if the total price is less than 100 €\n",
        "    if total_price < 100:\n",
        "        total_price += 10\n",
        "    return (order_no, total_price)\n",
        "\n",
        "# Use map() with lambda to process the orders\n",
        "result = list(map(lambda order: calculate_order(order), orders))\n",
        "\n",
        "print(result)\n"
      ],
      "metadata": {
        "colab": {
          "base_uri": "https://localhost:8080/"
        },
        "id": "AZ_Gt2RckDAs",
        "outputId": "20cb5a60-3730-43a1-b6c9-7242c395ee6a"
      },
      "execution_count": 1,
      "outputs": [
        {
          "output_type": "stream",
          "name": "stdout",
          "text": [
            "[(34587, 163.8), (98762, 284.0), (77226, 108.85000000000001), (88112, 84.97)]\n"
          ]
        }
      ]
    },
    {
      "cell_type": "code",
      "source": [],
      "metadata": {
        "id": "mB8-veybkWsj"
      },
      "execution_count": null,
      "outputs": []
    }
  ]
}